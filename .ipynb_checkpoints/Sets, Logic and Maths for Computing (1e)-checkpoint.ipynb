{
 "cells": [
  {
   "cell_type": "markdown",
   "metadata": {},
   "source": [
    "## 1. Collecting Things Together: Sets"
   ]
  },
  {
   "cell_type": "markdown",
   "metadata": {},
   "source": [
    "In this chapter:\n",
    "* **sets**\n",
    "  * inclusion\n",
    "  * identity\n",
    "  * proper inclusion\n",
    "  * exclusion\n",
    "  * empty sets\n",
    "  * forming new sets out of old ones:\n",
    "    * difference\n",
    "    * complement\n",
    "    * collections of sets:\n",
    "      * intersection\n",
    "      * union"
   ]
  },
  {
   "cell_type": "markdown",
   "metadata": {},
   "source": [
    "### Defining Terms\n",
    "\n",
    "A **set** is a _collection_ of things. The things are called **elements**.\n",
    "\n",
    "---------------------------------\n",
    "| **Set**      || **Crappy Cars** | **Sad People** |\n",
    "|--------------||-----------------| -----------------|\n",
    "|  element     || Chevy           | Lonely Guy\n",
    "|  element     || Ford            |\n",
    "\n",
    "Sets can have a bunch of _elements_, or can be empty. Doesn't matter - they're both a set!\n",
    "\n",
    "If a set only has one element in it, the entry is called a **_singleton_**, and is written using curly braces like this:\n",
    "{Lonely Guy}\n",
    "\n",
    "### Symbols\n",
    "\n",
    "**∈** says \"is an element of.\"\n",
    "\n",
    "e.g.\n",
    "\n",
    "Chevy ∈ Crappy Cars"
   ]
  },
  {
   "cell_type": "code",
   "execution_count": null,
   "metadata": {
    "collapsed": true
   },
   "outputs": [],
   "source": []
  }
 ],
 "metadata": {
  "kernelspec": {
   "display_name": "Python 3",
   "language": "python",
   "name": "python3"
  },
  "language_info": {
   "codemirror_mode": {
    "name": "ipython",
    "version": 3
   },
   "file_extension": ".py",
   "mimetype": "text/x-python",
   "name": "python",
   "nbconvert_exporter": "python",
   "pygments_lexer": "ipython3",
   "version": "3.5.1"
  }
 },
 "nbformat": 4,
 "nbformat_minor": 0
}
