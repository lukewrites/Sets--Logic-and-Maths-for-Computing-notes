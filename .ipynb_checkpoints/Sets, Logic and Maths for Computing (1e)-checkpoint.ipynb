{
 "cells": [
  {
   "cell_type": "markdown",
   "metadata": {},
   "source": [
    "## 1. Collecting Things Together: Sets"
   ]
  },
  {
   "cell_type": "markdown",
   "metadata": {},
   "source": [
    "In this chapter:\n",
    "* **sets**\n",
    "  * inclusion\n",
    "  * identity\n",
    "  * proper inclusion\n",
    "  * exclusion\n",
    "  * empty sets\n",
    "  * forming new sets out of old ones:\n",
    "    * difference\n",
    "    * complement\n",
    "    * collections of sets:\n",
    "      * intersection\n",
    "      * union"
   ]
  },
  {
   "cell_type": "markdown",
   "metadata": {},
   "source": [
    "### Defining Terms\n",
    "\n",
    "A **set** is a _collection_ of things. The things are called **elements**.\n",
    "\n",
    "---------------------------------\n",
    "| **Set**      || **Crappy Cars** | **American Cars** |**Sad People** |\n",
    "|--------------||-----------------| -----------------|-----------------|\n",
    "|  element     || Chevy           | Chevy            | Lonely Guy\n",
    "|  element     || Ford            | Ford\n",
    "|              || Yugo            |\n",
    "\n",
    "Sets can have a bunch of _elements_, or can be empty. Doesn't matter - they're both a set!\n",
    "\n",
    "If a set only has one element in it, the entry is called a **_singleton_**, and is written using curly braces like this:\n",
    "{Lonely Guy}. This emphasizes that the set is not the same as the person. The person just happens to be the only member of the set.\n",
    "\n",
    "We use `set` in Python to make a set out of an iterable."
   ]
  },
  {
   "cell_type": "code",
   "execution_count": 14,
   "metadata": {
    "collapsed": true
   },
   "outputs": [],
   "source": [
    "american_cars = set([\"Chevy\", \"Ford\"])\n",
    "crappy_cars = set([\"Chevy\", \"Yugo\", \"Ford\"])"
   ]
  },
  {
   "cell_type": "markdown",
   "metadata": {},
   "source": [
    "### Symbols\n",
    "\n",
    "∈ says \"is an element of.\"\n",
    "\n",
    "e.g.\n",
    "\n",
    "Chevy ∈ Crappy Cars"
   ]
  },
  {
   "cell_type": "code",
   "execution_count": 16,
   "metadata": {
    "collapsed": false
   },
   "outputs": [
    {
     "data": {
      "text/plain": [
       "True"
      ]
     },
     "execution_count": 16,
     "metadata": {},
     "output_type": "execute_result"
    }
   ],
   "source": [
    "\"Chevy\" in crappy_cars"
   ]
  },
  {
   "cell_type": "markdown",
   "metadata": {},
   "source": [
    "Subaru ∉ Crappy Cars"
   ]
  },
  {
   "cell_type": "code",
   "execution_count": 19,
   "metadata": {
    "collapsed": false
   },
   "outputs": [
    {
     "data": {
      "text/plain": [
       "False"
      ]
     },
     "execution_count": 19,
     "metadata": {},
     "output_type": "execute_result"
    }
   ],
   "source": [
    "\"Subaru\" in crappy_cars"
   ]
  },
  {
   "cell_type": "markdown",
   "metadata": {},
   "source": [
    "That which is on the right of the _∈_ is necessarily a set. That on the right can be a set...but doesn't have to be.\n",
    "\n",
    "However, in Python we cannot simply use `in` to see if one set is an element of another set:"
   ]
  },
  {
   "cell_type": "code",
   "execution_count": 18,
   "metadata": {
    "collapsed": false
   },
   "outputs": [
    {
     "data": {
      "text/plain": [
       "False"
      ]
     },
     "execution_count": 18,
     "metadata": {},
     "output_type": "execute_result"
    }
   ],
   "source": [
    "american_cars in crappy_cars"
   ]
  },
  {
   "cell_type": "markdown",
   "metadata": {},
   "source": [
    "In order to do this, we need to use ideas in **1.2**, below."
   ]
  },
  {
   "cell_type": "markdown",
   "metadata": {},
   "source": [
    "## 1.2 Basic Relations Between Sets\n",
    "\n",
    "**Inclusion**\n",
    "\n",
    "**_is a subset of..._ - ⊆**\n",
    "\n",
    "American Cars ⊆ Crappy Cars\n",
    "\n",
    "_Every American Car is a Crappy Car._  \n",
    "American Cars are a **subset** of Crappy Cars.\n"
   ]
  },
  {
   "cell_type": "code",
   "execution_count": 13,
   "metadata": {
    "collapsed": false
   },
   "outputs": [
    {
     "data": {
      "text/plain": [
       "True"
      ]
     },
     "execution_count": 13,
     "metadata": {},
     "output_type": "execute_result"
    }
   ],
   "source": [
    "american_cars.issubset(crappy_cars)"
   ]
  },
  {
   "cell_type": "markdown",
   "metadata": {},
   "source": [
    "**_includes_ - \t⊇**\n",
    "\n",
    "Crappy Cars ⊇ American Cars\n",
    "\n",
    "_Crappy Cars include all American Cars_.  \n",
    "_Crappy Cars are a **superset** of American Cars._"
   ]
  },
  {
   "cell_type": "code",
   "execution_count": 12,
   "metadata": {
    "collapsed": false
   },
   "outputs": [
    {
     "data": {
      "text/plain": [
       "True"
      ]
     },
     "execution_count": 12,
     "metadata": {},
     "output_type": "execute_result"
    }
   ],
   "source": [
    "crappy_cars.issuperset(american_cars)\n"
   ]
  },
  {
   "cell_type": "markdown",
   "metadata": {},
   "source": [
    "We can only use `.issubset()` and `.issuperset()` on sets (they are class methods)."
   ]
  },
  {
   "cell_type": "code",
   "execution_count": 21,
   "metadata": {
    "collapsed": false,
    "scrolled": true
   },
   "outputs": [
    {
     "ename": "AttributeError",
     "evalue": "'str' object has no attribute 'issubset'",
     "output_type": "error",
     "traceback": [
      "\u001b[1;31m---------------------------------------------------------------------------\u001b[0m",
      "\u001b[1;31mAttributeError\u001b[0m                            Traceback (most recent call last)",
      "\u001b[1;32m<ipython-input-21-1e433493d817>\u001b[0m in \u001b[0;36m<module>\u001b[1;34m()\u001b[0m\n\u001b[1;32m----> 1\u001b[1;33m \u001b[1;34m\"Chevy\"\u001b[0m\u001b[1;33m.\u001b[0m\u001b[0missubset\u001b[0m\u001b[1;33m(\u001b[0m\u001b[0mcrappy_cars\u001b[0m\u001b[1;33m)\u001b[0m\u001b[1;33m\u001b[0m\u001b[0m\n\u001b[0m",
      "\u001b[1;31mAttributeError\u001b[0m: 'str' object has no attribute 'issubset'"
     ]
    }
   ],
   "source": [
    "\"Chevy\".issubset(crappy_cars)"
   ]
  }
 ],
 "metadata": {
  "kernelspec": {
   "display_name": "Python 3",
   "language": "python",
   "name": "python3"
  },
  "language_info": {
   "codemirror_mode": {
    "name": "ipython",
    "version": 3
   },
   "file_extension": ".py",
   "mimetype": "text/x-python",
   "name": "python",
   "nbconvert_exporter": "python",
   "pygments_lexer": "ipython3",
   "version": "3.5.1"
  }
 },
 "nbformat": 4,
 "nbformat_minor": 0
}
