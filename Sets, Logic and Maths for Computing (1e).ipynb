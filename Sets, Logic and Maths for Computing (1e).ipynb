{
 "cells": [
  {
   "cell_type": "markdown",
   "metadata": {},
   "source": [
    "## 1. Collecting Things Together: Sets"
   ]
  },
  {
   "cell_type": "markdown",
   "metadata": {},
   "source": [
    "In this chapter:\n",
    "* **sets**\n",
    "  * inclusion\n",
    "  * identity\n",
    "  * proper inclusion\n",
    "  * exclusion\n",
    "  * empty sets\n",
    "  * forming new sets out of old ones:\n",
    "    * difference\n",
    "    * complement\n",
    "    * collections of sets:\n",
    "      * intersection\n",
    "      * union"
   ]
  },
  {
   "cell_type": "markdown",
   "metadata": {},
   "source": [
    "### Defining Terms\n",
    "\n",
    "A **set** is a _collection_ of things. The things are called **elements**.\n",
    "\n",
    "---------------------------------\n",
    "| **Set**      || **Crappy Cars** | **American Cars** |**Sad People** |\n",
    "|--------------||-----------------| -----------------|-----------------|\n",
    "|  element     || Chevy           | Chevy            | Lonely Guy\n",
    "|  element     || Ford            | Ford\n",
    "|              || Yugo            |\n",
    "\n",
    "Sets can have a bunch of _elements_, or can be empty. Doesn't matter - they're both a set!\n",
    "\n",
    "If a set only has one element in it, the entry is called a **_singleton_**, and is written using curly braces like this:\n",
    "{Lonely Guy}. This emphasizes that the set is not the same as the person. The person just happens to be the only member of the set.\n",
    "\n",
    "### Symbols\n",
    "\n",
    "∈ says \"is an element of.\"\n",
    "\n",
    "e.g.\n",
    "\n",
    "Chevy ∈ Crappy Cars\n",
    "\n",
    "Subaru ∉ Crappy Cars\n",
    "\n",
    "That which is on the right of the _∈_ is necessarily a set. That on the right can be a set...but doesn't have to be."
   ]
  },
  {
   "cell_type": "markdown",
   "metadata": {},
   "source": [
    "## 1.2 Basic Relations Between Sets\n",
    "\n",
    "**Inclusion**\n",
    "\n",
    "**_is a subset of..._ - ⊆**\n",
    "\n",
    "American Cars ⊆ Crappy Cars\n",
    "\n",
    "_Every American Car is a Crappy Car._  \n",
    "American Cars are a subset of Crappy Cars.\n",
    "\n",
    "**_includes_ - \t⊇**\n",
    "\n",
    "Crappy Cars ⊇ American Cars\n",
    "\n",
    "_Crappy Cars include all American Cars_.  \n",
    "_Crappy Cars are a **superset** of American Cars._"
   ]
  }
 ],
 "metadata": {
  "kernelspec": {
   "display_name": "Python 3",
   "language": "python",
   "name": "python3"
  },
  "language_info": {
   "codemirror_mode": {
    "name": "ipython",
    "version": 3
   },
   "file_extension": ".py",
   "mimetype": "text/x-python",
   "name": "python",
   "nbconvert_exporter": "python",
   "pygments_lexer": "ipython3",
   "version": "3.5.1"
  }
 },
 "nbformat": 4,
 "nbformat_minor": 0
}
