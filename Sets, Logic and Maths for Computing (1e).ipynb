{
 "cells": [
  {
   "cell_type": "markdown",
   "metadata": {},
   "source": [
    "# _Sets, Logic and Maths for Computing_ reading notes"
   ]
  },
  {
   "cell_type": "markdown",
   "metadata": {},
   "source": [
    ">These are my notes on the book _Sets, Logic and Maths for Computing (1e)_, by David Makinson.\n",
    "\n",
    ">I decided to read (and write notes on) the book after seeing a number of developers in a reddit thread recommend new/self-taught programmers to learn discrete maths. I browsed a few wikipedia articles on the topic and realized that discrete maths is exactly what many programming puzzles require one to do. Amazon reviewers seemed to love Dr. Makinson's book, and the first edition was relatively economically priced via Amazon Marketplace, and so I acquired a copy.\n",
    "\n",
    ">In the notes I have incorporated Python code for each idea. I've done this to teach myself, and to serve as an example for anyone who might be interested.\n",
    "\n",
    "> The code for this notebook is available on github. I'm happy to accept pull requests that might make these docs more accurate, informative, readable, or otherwise improved. "
   ]
  },
  {
   "cell_type": "markdown",
   "metadata": {},
   "source": [
    "## 1. Collecting Things Together: Sets"
   ]
  },
  {
   "cell_type": "markdown",
   "metadata": {},
   "source": [
    "In this chapter:\n",
    "* **sets**\n",
    "  * [inclusion](#1.2-Basic-Relations-Between-Sets)\n",
    "  * [identity](#1.2.2-Identity)\n",
    "  * [proper inclusion](#1.2.3-Proper-Inclusion)\n",
    "  * exclusion\n",
    "  * empty sets\n",
    "  * forming new sets out of old ones:\n",
    "    * difference\n",
    "    * complement\n",
    "    * collections of sets:\n",
    "      * intersection\n",
    "      * union"
   ]
  },
  {
   "cell_type": "markdown",
   "metadata": {},
   "source": [
    "### 1.1 The Intuitive Concept of a Set (`set()`)\n",
    "\n",
    "A **set** is a _collection_ of things. The things are called **elements**.\n",
    "\n",
    "---------------------------------\n",
    "| **Set**      || **Crappy Cars** | **American Cars** |**Sad People** |\n",
    "|--------------||-----------------| -----------------|-----------------|\n",
    "|  element     || Chevy           | Chevy            | Lonely Guy\n",
    "|  element     || Ford            | Ford\n",
    "|              || Yugo            |\n",
    "\n",
    "Sets can have a bunch of _elements_, or can be empty. Doesn't matter - they're both a set!\n",
    "\n",
    "If a set only has one element in it, the entry is called a **_singleton_**, and is written using curly braces like this:\n",
    "{Lonely Guy}. This emphasizes that the set is not the same as the person. The person just happens to be the only member of the set.\n",
    "\n",
    "We use `set()` in Python to make a set out of an iterable."
   ]
  },
  {
   "cell_type": "code",
   "execution_count": 1,
   "metadata": {
    "collapsed": true
   },
   "outputs": [],
   "source": [
    "american_cars = set([\"Chevy\", \"Ford\"])\n",
    "crappy_cars = set([\"Chevy\", \"Yugo\", \"Ford\"])\n",
    "sad_people = set([\"Lonely Guy\"])"
   ]
  },
  {
   "cell_type": "markdown",
   "metadata": {},
   "source": [
    "### Symbols (`in`, `not in`)\n",
    "\n",
    "∈ says \"is an element of.\"\n",
    "\n",
    "e.g.\n",
    "\n",
    "> Chevy ∈ Crappy Cars"
   ]
  },
  {
   "cell_type": "code",
   "execution_count": 2,
   "metadata": {
    "collapsed": false
   },
   "outputs": [
    {
     "data": {
      "text/plain": [
       "True"
      ]
     },
     "execution_count": 2,
     "metadata": {},
     "output_type": "execute_result"
    }
   ],
   "source": [
    "\"Chevy\" in crappy_cars"
   ]
  },
  {
   "cell_type": "markdown",
   "metadata": {},
   "source": [
    "∉ says \"is not an element of\".  \n",
    ">Subaru ∉ Crappy Cars"
   ]
  },
  {
   "cell_type": "code",
   "execution_count": 3,
   "metadata": {
    "collapsed": false
   },
   "outputs": [
    {
     "data": {
      "text/plain": [
       "True"
      ]
     },
     "execution_count": 3,
     "metadata": {},
     "output_type": "execute_result"
    }
   ],
   "source": [
    "\"Subaru\" not in crappy_cars"
   ]
  },
  {
   "cell_type": "markdown",
   "metadata": {},
   "source": [
    "That which is on the right of the _∈_ or ∉ is necessarily a set. That on the left _can_ be a set...but doesn't have to be.\n",
    "\n",
    "> American Cars ∈ Crappy Cars  \n",
    "> Lonely Guy ∈ Sad People\n",
    "\n",
    "Remember we put round braces around single items when we are checking if they are in a set.\n",
    "\n",
    "At first blush it's counterintuitive, but in Python we cannot simply use `in` to see if one set is an element of another set:"
   ]
  },
  {
   "cell_type": "code",
   "execution_count": 4,
   "metadata": {
    "collapsed": false
   },
   "outputs": [
    {
     "data": {
      "text/plain": [
       "False"
      ]
     },
     "execution_count": 4,
     "metadata": {},
     "output_type": "execute_result"
    }
   ],
   "source": [
    "american_cars in crappy_cars"
   ]
  },
  {
   "cell_type": "markdown",
   "metadata": {},
   "source": [
    "In order to do this, we need to use ideas in **1.2**, below."
   ]
  },
  {
   "cell_type": "markdown",
   "metadata": {},
   "source": [
    "## 1.2 Basic Relations Between Sets (`.issubset()`, .`issuperset()`)\n",
    "\n",
    "**Inclusion**\n",
    "\n",
    "**_is a subset of..._ - ⊆**\n",
    "\n",
    ">American Cars ⊆ Crappy Cars\n",
    "\n",
    "_Every American Car is a Crappy Car._  \n",
    "American Cars are a **subset** of Crappy Cars.\n"
   ]
  },
  {
   "cell_type": "code",
   "execution_count": 5,
   "metadata": {
    "collapsed": false
   },
   "outputs": [
    {
     "data": {
      "text/plain": [
       "True"
      ]
     },
     "execution_count": 5,
     "metadata": {},
     "output_type": "execute_result"
    }
   ],
   "source": [
    "american_cars.issubset(crappy_cars)"
   ]
  },
  {
   "cell_type": "markdown",
   "metadata": {},
   "source": [
    "**_includes_ - \t⊇**\n",
    "\n",
    ">Crappy Cars ⊇ American Cars\n",
    "\n",
    "_Crappy Cars include all American Cars_.  \n",
    "_Crappy Cars are a **superset** of American Cars._"
   ]
  },
  {
   "cell_type": "code",
   "execution_count": 6,
   "metadata": {
    "collapsed": false
   },
   "outputs": [
    {
     "data": {
      "text/plain": [
       "True"
      ]
     },
     "execution_count": 6,
     "metadata": {},
     "output_type": "execute_result"
    }
   ],
   "source": [
    "crappy_cars.issuperset(american_cars)\n"
   ]
  },
  {
   "cell_type": "markdown",
   "metadata": {},
   "source": [
    "The inverse is not true."
   ]
  },
  {
   "cell_type": "code",
   "execution_count": 7,
   "metadata": {
    "collapsed": false
   },
   "outputs": [
    {
     "data": {
      "text/plain": [
       "False"
      ]
     },
     "execution_count": 7,
     "metadata": {},
     "output_type": "execute_result"
    }
   ],
   "source": [
    "american_cars.issuperset(crappy_cars)"
   ]
  },
  {
   "cell_type": "markdown",
   "metadata": {},
   "source": [
    "We can only use `.issubset()` and `.issuperset()` on sets (they are class methods)."
   ]
  },
  {
   "cell_type": "code",
   "execution_count": 8,
   "metadata": {
    "collapsed": false,
    "scrolled": true
   },
   "outputs": [
    {
     "data": {
      "text/plain": [
       "True"
      ]
     },
     "execution_count": 8,
     "metadata": {},
     "output_type": "execute_result"
    }
   ],
   "source": [
    "set([\"Chevy\"]).issubset(crappy_cars)"
   ]
  },
  {
   "cell_type": "markdown",
   "metadata": {},
   "source": [
    "To check a single entity, use `in`."
   ]
  },
  {
   "cell_type": "code",
   "execution_count": 9,
   "metadata": {
    "collapsed": false
   },
   "outputs": [
    {
     "data": {
      "text/plain": [
       "True"
      ]
     },
     "execution_count": 9,
     "metadata": {},
     "output_type": "execute_result"
    }
   ],
   "source": [
    "\"Chevy\" in crappy_cars"
   ]
  },
  {
   "cell_type": "markdown",
   "metadata": {},
   "source": [
    "## 1.2.2 Identity (`==`)\n",
    "\n",
    "If Set A is a subset of B, and B is a subset of A, then the two sets are equal to each other."
   ]
  },
  {
   "cell_type": "markdown",
   "metadata": {},
   "source": [
    ">**The Postulate of Extensionality**: When both A⊆B and B⊆A then the sets A, B are, in fact, identical."
   ]
  },
  {
   "cell_type": "code",
   "execution_count": 10,
   "metadata": {
    "collapsed": false
   },
   "outputs": [
    {
     "data": {
      "text/plain": [
       "True"
      ]
     },
     "execution_count": 10,
     "metadata": {},
     "output_type": "execute_result"
    }
   ],
   "source": [
    "set([1, 2]) == set([2, 1])"
   ]
  },
  {
   "cell_type": "markdown",
   "metadata": {},
   "source": [
    "Weirdly enough, this is even true if one (both) of the sets includes _repeated elements_ that the other set lacks."
   ]
  },
  {
   "cell_type": "code",
   "execution_count": 11,
   "metadata": {
    "collapsed": false
   },
   "outputs": [
    {
     "data": {
      "text/plain": [
       "True"
      ]
     },
     "execution_count": 11,
     "metadata": {},
     "output_type": "execute_result"
    }
   ],
   "source": [
    "set([1, 2, 2]) == set([2, 1, 1, 1])"
   ]
  },
  {
   "cell_type": "markdown",
   "metadata": {},
   "source": [
    "### 1.2.3 Proper Inclusion\n",
    "\n",
    "When A ⊆ B but A /= B, we say A is **properly included** in B.\n",
    "> A ⊂ B  \n",
    "> A is properly included in B\n",
    "\n",
    "We use the words **_[sole] witness[es]_** to give evidence from the superset of those elements that are not included in the subset. \n",
    "\n",
    "For example:\n",
    "> American Cars ⊂ Crappy Cars, sole witness Yugo."
   ]
  }
 ],
 "metadata": {
  "celltoolbar": "Raw Cell Format",
  "kernelspec": {
   "display_name": "Python 3",
   "language": "python",
   "name": "python3"
  },
  "language_info": {
   "codemirror_mode": {
    "name": "ipython",
    "version": 3
   },
   "file_extension": ".py",
   "mimetype": "text/x-python",
   "name": "python",
   "nbconvert_exporter": "python",
   "pygments_lexer": "ipython3",
   "version": "3.5.1"
  }
 },
 "nbformat": 4,
 "nbformat_minor": 0
}
